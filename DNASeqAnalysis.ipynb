{
 "cells": [
  {
   "cell_type": "markdown",
   "metadata": {},
   "source": [
    "# By Zeal Jinwala\n",
    "# Date: January 30, 2022\n",
    "# Data Source: The Illumina and nanopore sequence datasets of the nose swab samples, generated and analyzed\n",
    "#               in the current study, are available in the European Nucleotide Archive (ENA) under accession number\n",
    "#               PRJEB28612. https://www.ebi.ac.uk/ena/browser/view/PRJEB28612?show=reads \n"
   ]
  },
  {
   "cell_type": "code",
   "execution_count": 65,
   "metadata": {},
   "outputs": [],
   "source": [
    "import pandas as pd\n",
    "import matplotlib.pyplot as plt "
   ]
  },
  {
   "cell_type": "code",
   "execution_count": 66,
   "metadata": {},
   "outputs": [],
   "source": [
    "# input Nanopore Seq Data\n",
    "# read input\n",
    "def fasta_readfirst(file):\n",
    "    from Bio import SeqIO\n",
    "    df = pd.DataFrame(columns=['IDs', 'Seqs'])\n",
    "    for record in SeqIO.parse(file, \"fastq\"):\n",
    "        df = df.append({'IDs': record.id, 'Seqs': record.seq}, ignore_index=True)\n",
    "    return df"
   ]
  },
  {
   "cell_type": "markdown",
   "metadata": {},
   "source": [
    "# Read Length Distribution"
   ]
  },
  {
   "cell_type": "code",
   "execution_count": 67,
   "metadata": {},
   "outputs": [
    {
     "data": {
      "image/png": "[encoded data removed]",
      "text/plain": [
       "<Figure size 432x288 with 1 Axes>"
      ]
     },
     "metadata": {
      "needs_background": "light"
     },
     "output_type": "display_data"
    },
    {
     "data": {
      "image/png": "[encoded data removed]",
      "text/plain": [
       "<Figure size 432x288 with 1 Axes>"
      ]
     },
     "metadata": {
      "needs_background": "light"
     },
     "output_type": "display_data"
    }
   ],
   "source": [
    "fileIllumina = \"/Users/zsj24/GitHub/Computational-Analysis/sampleIllumina.fastq\"\n",
    "fileNanopore = \"/Users/zsj24/GitHub/Computational-Analysis/sampleNanopore.fastq\"\n",
    "dfIllumina = fasta_readfirst(fileIllumina)\n",
    "dfNanopore = fasta_readfirst(fileNanopore)\n",
    "readLengthsIL = dfIllumina['Seqs'].str.len()\n",
    "plt.subplot(2, 1, 1)\n",
    "plt.hist(readLengthsIL)\n",
    "plt.xlabel(\"Read Length\")\n",
    "plt.ylabel('Number of Sequence Reads')\n",
    "plt.title('Length distribution')\n",
    "plt.show()\n",
    "readLengthsNP = dfNanopore['Seqs'].str.len()\n",
    "plt.subplot(2, 1, 2)\n",
    "plt.hist(readLengthsNP)\n",
    "plt.xlabel(\"Read Length\")\n",
    "plt.ylabel('Number of Sequence Reads')\n",
    "plt.title('Length distribution')\n",
    "plt.show()"
   ]
  },
  {
   "cell_type": "markdown",
   "metadata": {},
   "source": [
    "# Quality score distribution "
   ]
  },
  {
   "cell_type": "code",
   "execution_count": null,
   "metadata": {},
   "outputs": [],
   "source": []
  }
 ],
 "metadata": {
  "interpreter": {
   "hash": "31f2aee4e71d21fbe5cf8b01ff0e069b9275f58929596ceb00d14d90e3e16cd6"
  },
  "kernelspec": {
   "display_name": "Python 3.8.2 64-bit",
   "language": "python",
   "name": "python3"
  },
  "language_info": {
   "codemirror_mode": {
    "name": "ipython",
    "version": 3
   },
   "file_extension": ".py",
   "mimetype": "text/x-python",
   "name": "python",
   "nbconvert_exporter": "python",
   "pygments_lexer": "ipython3",
   "version": "3.8.2"
  },
  "orig_nbformat": 4
 },
 "nbformat": 4,
 "nbformat_minor": 2
}
