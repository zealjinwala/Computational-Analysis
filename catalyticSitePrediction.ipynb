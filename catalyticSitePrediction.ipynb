{
 "cells": [
  {
   "cell_type": "markdown",
   "metadata": {},
   "source": [
    "By Zeal Jinwala \\\n",
    "Date: June 16, 2022 \\\n",
    "Data Source: The dataset (courtesy of Natalia Petrova) is a subset of the data used in \"Prediction of catalytic residues using Support Vector Machine with selected protein sequence and structural properties\", Natalia Petrova and Cathy Wu, 2006. \n",
    "http://bmcbioinformatics.biomedcentral.com/articles/10.1186/1471-2105-7-312\n",
    "Please review that publication to learn more about this dataset and the catalytic residue prediction problem.\n"
   ]
  },
  {
   "cell_type": "code",
   "execution_count": 28,
   "metadata": {},
   "outputs": [],
   "source": [
    "from scipy.io import arff\n",
    "import pandas as pd\n",
    "from Bio import SeqIO\n",
    "from Bio.SeqUtils.ProtParam import ProteinAnalysis\n"
   ]
  },
  {
   "cell_type": "markdown",
   "metadata": {},
   "source": [
    "### Load catasite data"
   ]
  },
  {
   "cell_type": "code",
   "execution_count": 53,
   "metadata": {},
   "outputs": [],
   "source": [
    "data = arff.loadarff('NataliaPetrova.catsite.arff')\n",
    "df = pd.DataFrame(data[0])\n",
    "df['AAName1LetterCode'] = df['AAName1LetterCode'].apply(lambda x: x.decode(\"utf-8\"))\n",
    "df['class'] = df['class'].apply(lambda x: x.decode(\"utf-8\"))\n",
    "# not gonna need it but fancy code\n",
    "    # AAName1LetterCode = df['AAName1LetterCode'].values\n",
    "    # intAA = list(map(lambda x:aa2int[x],AAName1LetterCode))\n",
    "aaOneHot = pd.DataFrame([ProteinAnalysis(i).count_amino_acids() for i in df['AAName1LetterCode']])\n",
    "df1 = df[['nearest_cleft_SA_area','nearest_cleft_distance','distance_to_3_largest_clefts','HB_main_chain_protein','ScoreConsScore']]\n",
    "result = pd.concat([aaOneHot, df], axis=1, join=\"inner\")\n",
    "\n",
    "X = result.dropna()\n",
    "T = df['class']\n",
    "names = result.columns\n"
   ]
  }
 ],
 "metadata": {
  "interpreter": {
   "hash": "31f2aee4e71d21fbe5cf8b01ff0e069b9275f58929596ceb00d14d90e3e16cd6"
  },
  "kernelspec": {
   "display_name": "Python 3.8.2 64-bit",
   "language": "python",
   "name": "python3"
  },
  "language_info": {
   "codemirror_mode": {
    "name": "ipython",
    "version": 3
   },
   "file_extension": ".py",
   "mimetype": "text/x-python",
   "name": "python",
   "nbconvert_exporter": "python",
   "pygments_lexer": "ipython3",
   "version": "3.8.2"
  },
  "orig_nbformat": 4
 },
 "nbformat": 4,
 "nbformat_minor": 2
}
