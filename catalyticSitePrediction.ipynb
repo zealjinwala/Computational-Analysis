{
 "cells": [
  {
   "cell_type": "markdown",
   "metadata": {},
   "source": [
    "By Zeal Jinwala  <br> \n",
    "Date: June 16, 2022  <br> \n",
    "Data Source: The dataset (courtesy of Natalia Petrova) is a subset of the data used in \"Prediction of catalytic residues using Support Vector Machine with selected protein sequence and structural properties\", Natalia Petrova and Cathy Wu, 2006. \n",
    "http://bmcbioinformatics.biomedcentral.com/articles/10.1186/1471-2105-7-312\n",
    "Please review that publication to learn more about this dataset and the catalytic residue prediction problem.\n"
   ]
  },
  {
   "cell_type": "code",
   "execution_count": 137,
   "metadata": {},
   "outputs": [],
   "source": [
    "from scipy.io import arff\n",
    "import pandas as pd\n",
    "import numpy as np\n",
    "from Bio.SeqUtils.ProtParam import ProteinAnalysis\n",
    "from tensorflow.keras import models, layers, utils, backend as K\n",
    "from sklearn.model_selection import train_test_split\n"
   ]
  },
  {
   "cell_type": "markdown",
   "metadata": {},
   "source": [
    "### Load and rearrange catasite data"
   ]
  },
  {
   "cell_type": "code",
   "execution_count": 143,
   "metadata": {},
   "outputs": [],
   "source": [
    "data = arff.loadarff('NataliaPetrova.catsite.arff')\n",
    "df = pd.DataFrame(data[0])\n",
    "df['AAName1LetterCode'] = df['AAName1LetterCode'].apply(lambda x: x.decode(\"utf-8\"))\n",
    "df['class'] = df['class'].apply(lambda x: x.decode(\"utf-8\"))\n",
    "\n",
    "aaOneHot = pd.DataFrame([ProteinAnalysis(i).count_amino_acids() for i in df['AAName1LetterCode']])\n",
    "df1 = df[['nearest_cleft_SA_area','nearest_cleft_distance','distance_to_3_largest_clefts','HB_main_chain_protein','ScoreConsScore','class']]\n",
    "result = pd.concat([aaOneHot, df1], axis=1, join=\"inner\")\n",
    "\n",
    "X = result.dropna()\n",
    "T = X['class'].astype(float).values\n",
    "X = X.iloc[:,:25].values\n",
    "X_train,X_test,y_train,y_test = train_test_split(X,T,test_size = 0.1)"
   ]
  },
  {
   "cell_type": "markdown",
   "metadata": {},
   "source": [
    "### Model Design"
   ]
  },
  {
   "cell_type": "code",
   "execution_count": 144,
   "metadata": {},
   "outputs": [
    {
     "name": "stdout",
     "output_type": "stream",
     "text": [
      "Model: \"Perceptron\"\n",
      "_________________________________________________________________\n",
      " Layer (type)                Output Shape              Param #   \n",
      "=================================================================\n",
      " dense (Dense)               (None, 1)                 26        \n",
      "                                                                 \n",
      "=================================================================\n",
      "Total params: 26\n",
      "Trainable params: 26\n",
      "Non-trainable params: 0\n",
      "_________________________________________________________________\n"
     ]
    }
   ],
   "source": [
    "# Neural network model\n",
    "    # 1. Define the neural network structure ( # of input units,  # of hidden units, etc). \n",
    "    # 2. Initialize the model's parameters\n",
    "    # 3. Loop:\n",
    "    #     - Implement forward propagation\n",
    "    #     - Compute loss\n",
    "    #     - Implement backward propagation to get the gradients\n",
    "    #     - Update parameters (gradient descent)\n",
    "\n",
    "# define the keras model\n",
    "model = models.Sequential(name=\"Perceptron\", layers=[\n",
    "    layers.Dense(             #a fully connected layer\n",
    "          name=\"dense\",\n",
    "          input_dim=25,        #with 25 features as the input\n",
    "          units=1,            #and 1 node because we want 1 output\n",
    "          activation='linear' #f(x)=x\n",
    "    )\n",
    "])\n",
    "model.summary()"
   ]
  },
  {
   "cell_type": "markdown",
   "metadata": {},
   "source": [
    "### Train and Test"
   ]
  },
  {
   "cell_type": "code",
   "execution_count": 146,
   "metadata": {},
   "outputs": [],
   "source": [
    "# compile the neural network\n",
    "model.compile(optimizer='adam', loss='binary_crossentropy', \n",
    "              metrics=['accuracy'])\n",
    "training = model.fit(x=X_train, y=y_train, batch_size=32, epochs=100, shuffle=True, verbose=0)"
   ]
  },
  {
   "cell_type": "code",
   "execution_count": 147,
   "metadata": {},
   "outputs": [
    {
     "name": "stdout",
     "output_type": "stream",
     "text": [
      "Evaluate on test data\n",
      "1/1 [==============================] - 0s 370ms/step - loss: -2.7220 - accuracy: 0.0000e+00\n",
      "test loss, test acc: [-2.7220497131347656, 0.0]\n",
      "Generate predictions for 3 samples\n",
      "1/1 [==============================] - 0s 76ms/step\n",
      "predictions shape: (3, 1)\n"
     ]
    }
   ],
   "source": [
    "# Evaluate the model on the test data using `evaluate`\n",
    "print(\"Evaluate on test data\")\n",
    "results = model.evaluate(X_test, y_test, batch_size=128)\n",
    "print(\"test loss, test acc:\", results)\n",
    "\n",
    "# Generate predictions (probabilities -- the output of the last layer)\n",
    "# on new data using `predict`\n",
    "print(\"Generate predictions for 3 samples\")\n",
    "predictions = model.predict(X_test[:3])\n",
    "print(\"predictions shape:\", predictions.shape)"
   ]
  }
 ],
 "metadata": {
  "interpreter": {
   "hash": "31f2aee4e71d21fbe5cf8b01ff0e069b9275f58929596ceb00d14d90e3e16cd6"
  },
  "kernelspec": {
   "display_name": "Python 3.8.2 64-bit",
   "language": "python",
   "name": "python3"
  },
  "language_info": {
   "codemirror_mode": {
    "name": "ipython",
    "version": 3
   },
   "file_extension": ".py",
   "mimetype": "text/x-python",
   "name": "python",
   "nbconvert_exporter": "python",
   "pygments_lexer": "ipython3",
   "version": "3.8.2"
  },
  "orig_nbformat": 4
 },
 "nbformat": 4,
 "nbformat_minor": 2
}
