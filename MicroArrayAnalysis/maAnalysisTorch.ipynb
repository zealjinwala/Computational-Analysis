{
 "cells": [
  {
   "cell_type": "markdown",
   "metadata": {
    "id": "0YjFc-__93RT"
   },
   "source": [
    "## Microarray Analysis- Machine Learning Analysis\n",
    "* Date: April 27, 2022 \n",
    "* Author: Zeal Jinwala (zsj24)\n",
    "* Description: In this study, you will analyze a Breast Cancer dataset, GSE7390, and identify a gene signature for prediction of Breast Cancer relapse. "
   ]
  },
  {
   "cell_type": "markdown",
   "metadata": {
    "id": "61kuFDXB93RU"
   },
   "source": [
    "Import packages"
   ]
  },
  {
   "cell_type": "code",
   "execution_count": null,
   "metadata": {
    "id": "4hHnBEdV93RU"
   },
   "outputs": [],
   "source": [
    "\n",
    "import GEOparse\n",
    "import pandas as pd\n",
    "import numpy as np"
   ]
  },
  {
   "cell_type": "markdown",
   "metadata": {
    "id": "4EVH2QoJ93RU"
   },
   "source": [
    "Download and parse data"
   ]
  },
  {
   "cell_type": "code",
   "execution_count": null,
   "metadata": {
    "colab": {
     "base_uri": "https://localhost:8080/"
    },
    "id": "aUWrv7Me93RV",
    "outputId": "a2784a32-bd79-448c-f54b-9c6cc3e3b437"
   },
   "outputs": [
    {
     "name": "stderr",
     "output_type": "stream",
     "text": [
      "10-May-2022 09:15:18 DEBUG utils - Directory . already exists. Skipping.\n",
      "10-May-2022 09:15:18 INFO GEOparse - Downloading ftp://ftp.ncbi.nlm.nih.gov/geo/series/GSE7nnn/GSE7390/soft/GSE7390_family.soft.gz to ./GSE7390_family.soft.gz\n",
      "100%|██████████| 42.7M/42.7M [00:00<00:00, 46.5MB/s]\n",
      "10-May-2022 09:15:19 DEBUG downloader - Size validation passed\n",
      "10-May-2022 09:15:19 DEBUG downloader - Moving /tmp/tmpibvn8_q6 to /content/GSE7390_family.soft.gz\n",
      "10-May-2022 09:15:19 DEBUG downloader - Successfully downloaded ftp://ftp.ncbi.nlm.nih.gov/geo/series/GSE7nnn/GSE7390/soft/GSE7390_family.soft.gz\n",
      "10-May-2022 09:15:19 INFO GEOparse - Parsing ./GSE7390_family.soft.gz: \n",
      "10-May-2022 09:15:19 DEBUG GEOparse - DATABASE: GeoMiame\n",
      "10-May-2022 09:15:19 DEBUG GEOparse - SERIES: GSE7390\n",
      "10-May-2022 09:15:19 DEBUG GEOparse - PLATFORM: GPL96\n",
      "10-May-2022 09:15:21 DEBUG GEOparse - SAMPLE: GSM177885\n",
      "10-May-2022 09:15:21 DEBUG GEOparse - SAMPLE: GSM177886\n",
      "10-May-2022 09:15:21 DEBUG GEOparse - SAMPLE: GSM177887\n",
      "10-May-2022 09:15:21 DEBUG GEOparse - SAMPLE: GSM177888\n",
      "10-May-2022 09:15:22 DEBUG GEOparse - SAMPLE: GSM177889\n",
      "10-May-2022 09:15:22 DEBUG GEOparse - SAMPLE: GSM177890\n",
      "10-May-2022 09:15:22 DEBUG GEOparse - SAMPLE: GSM177891\n",
      "10-May-2022 09:15:22 DEBUG GEOparse - SAMPLE: GSM177892\n",
      "10-May-2022 09:15:22 DEBUG GEOparse - SAMPLE: GSM177893\n",
      "10-May-2022 09:15:22 DEBUG GEOparse - SAMPLE: GSM177894\n",
      "10-May-2022 09:15:22 DEBUG GEOparse - SAMPLE: GSM177895\n",
      "10-May-2022 09:15:23 DEBUG GEOparse - SAMPLE: GSM177896\n",
      "10-May-2022 09:15:23 DEBUG GEOparse - SAMPLE: GSM177897\n",
      "10-May-2022 09:15:23 DEBUG GEOparse - SAMPLE: GSM177898\n",
      "10-May-2022 09:15:23 DEBUG GEOparse - SAMPLE: GSM177899\n",
      "10-May-2022 09:15:23 DEBUG GEOparse - SAMPLE: GSM177900\n",
      "10-May-2022 09:15:23 DEBUG GEOparse - SAMPLE: GSM177901\n",
      "10-May-2022 09:15:23 DEBUG GEOparse - SAMPLE: GSM177902\n",
      "10-May-2022 09:15:24 DEBUG GEOparse - SAMPLE: GSM177903\n",
      "10-May-2022 09:15:24 DEBUG GEOparse - SAMPLE: GSM177904\n",
      "10-May-2022 09:15:24 DEBUG GEOparse - SAMPLE: GSM177905\n",
      "10-May-2022 09:15:24 DEBUG GEOparse - SAMPLE: GSM177906\n",
      "10-May-2022 09:15:24 DEBUG GEOparse - SAMPLE: GSM177907\n",
      "10-May-2022 09:15:24 DEBUG GEOparse - SAMPLE: GSM177908\n",
      "10-May-2022 09:15:24 DEBUG GEOparse - SAMPLE: GSM177909\n",
      "10-May-2022 09:15:25 DEBUG GEOparse - SAMPLE: GSM177910\n",
      "10-May-2022 09:15:25 DEBUG GEOparse - SAMPLE: GSM177911\n",
      "10-May-2022 09:15:25 DEBUG GEOparse - SAMPLE: GSM177912\n",
      "10-May-2022 09:15:25 DEBUG GEOparse - SAMPLE: GSM177913\n",
      "10-May-2022 09:15:25 DEBUG GEOparse - SAMPLE: GSM177914\n",
      "10-May-2022 09:15:25 DEBUG GEOparse - SAMPLE: GSM177915\n",
      "10-May-2022 09:15:26 DEBUG GEOparse - SAMPLE: GSM177916\n",
      "10-May-2022 09:15:26 DEBUG GEOparse - SAMPLE: GSM177917\n",
      "10-May-2022 09:15:26 DEBUG GEOparse - SAMPLE: GSM177918\n",
      "10-May-2022 09:15:26 DEBUG GEOparse - SAMPLE: GSM177919\n",
      "10-May-2022 09:15:26 DEBUG GEOparse - SAMPLE: GSM177920\n",
      "10-May-2022 09:15:26 DEBUG GEOparse - SAMPLE: GSM177921\n",
      "10-May-2022 09:15:27 DEBUG GEOparse - SAMPLE: GSM177922\n",
      "10-May-2022 09:15:27 DEBUG GEOparse - SAMPLE: GSM177923\n",
      "10-May-2022 09:15:27 DEBUG GEOparse - SAMPLE: GSM177924\n",
      "10-May-2022 09:15:27 DEBUG GEOparse - SAMPLE: GSM177925\n",
      "10-May-2022 09:15:27 DEBUG GEOparse - SAMPLE: GSM177926\n",
      "10-May-2022 09:15:27 DEBUG GEOparse - SAMPLE: GSM177927\n",
      "10-May-2022 09:15:27 DEBUG GEOparse - SAMPLE: GSM177928\n",
      "10-May-2022 09:15:28 DEBUG GEOparse - SAMPLE: GSM177929\n",
      "10-May-2022 09:15:28 DEBUG GEOparse - SAMPLE: GSM177930\n",
      "10-May-2022 09:15:28 DEBUG GEOparse - SAMPLE: GSM177931\n",
      "10-May-2022 09:15:28 DEBUG GEOparse - SAMPLE: GSM177932\n",
      "10-May-2022 09:15:29 DEBUG GEOparse - SAMPLE: GSM177933\n",
      "10-May-2022 09:15:29 DEBUG GEOparse - SAMPLE: GSM177934\n",
      "10-May-2022 09:15:29 DEBUG GEOparse - SAMPLE: GSM177935\n",
      "10-May-2022 09:15:29 DEBUG GEOparse - SAMPLE: GSM177936\n",
      "10-May-2022 09:15:29 DEBUG GEOparse - SAMPLE: GSM177937\n",
      "10-May-2022 09:15:30 DEBUG GEOparse - SAMPLE: GSM177938\n",
      "10-May-2022 09:15:30 DEBUG GEOparse - SAMPLE: GSM177939\n",
      "10-May-2022 09:15:30 DEBUG GEOparse - SAMPLE: GSM177940\n",
      "10-May-2022 09:15:30 DEBUG GEOparse - SAMPLE: GSM177941\n",
      "10-May-2022 09:15:30 DEBUG GEOparse - SAMPLE: GSM177942\n",
      "10-May-2022 09:15:30 DEBUG GEOparse - SAMPLE: GSM177943\n",
      "10-May-2022 09:15:31 DEBUG GEOparse - SAMPLE: GSM177944\n",
      "10-May-2022 09:15:31 DEBUG GEOparse - SAMPLE: GSM177945\n",
      "10-May-2022 09:15:31 DEBUG GEOparse - SAMPLE: GSM177946\n",
      "10-May-2022 09:15:31 DEBUG GEOparse - SAMPLE: GSM177947\n",
      "10-May-2022 09:15:31 DEBUG GEOparse - SAMPLE: GSM177948\n",
      "10-May-2022 09:15:32 DEBUG GEOparse - SAMPLE: GSM177949\n",
      "10-May-2022 09:15:32 DEBUG GEOparse - SAMPLE: GSM177950\n",
      "10-May-2022 09:15:32 DEBUG GEOparse - SAMPLE: GSM177951\n",
      "10-May-2022 09:15:32 DEBUG GEOparse - SAMPLE: GSM177952\n",
      "10-May-2022 09:15:32 DEBUG GEOparse - SAMPLE: GSM177953\n",
      "10-May-2022 09:15:32 DEBUG GEOparse - SAMPLE: GSM177954\n",
      "10-May-2022 09:15:32 DEBUG GEOparse - SAMPLE: GSM177955\n",
      "10-May-2022 09:15:33 DEBUG GEOparse - SAMPLE: GSM177956\n",
      "10-May-2022 09:15:33 DEBUG GEOparse - SAMPLE: GSM177957\n",
      "10-May-2022 09:15:33 DEBUG GEOparse - SAMPLE: GSM177958\n",
      "10-May-2022 09:15:33 DEBUG GEOparse - SAMPLE: GSM177959\n",
      "10-May-2022 09:15:33 DEBUG GEOparse - SAMPLE: GSM177960\n",
      "10-May-2022 09:15:33 DEBUG GEOparse - SAMPLE: GSM177961\n",
      "10-May-2022 09:15:33 DEBUG GEOparse - SAMPLE: GSM177962\n",
      "10-May-2022 09:15:33 DEBUG GEOparse - SAMPLE: GSM177963\n",
      "10-May-2022 09:15:34 DEBUG GEOparse - SAMPLE: GSM177964\n",
      "10-May-2022 09:15:34 DEBUG GEOparse - SAMPLE: GSM177965\n",
      "10-May-2022 09:15:34 DEBUG GEOparse - SAMPLE: GSM177966\n",
      "10-May-2022 09:15:34 DEBUG GEOparse - SAMPLE: GSM177967\n",
      "10-May-2022 09:15:34 DEBUG GEOparse - SAMPLE: GSM177968\n",
      "10-May-2022 09:15:35 DEBUG GEOparse - SAMPLE: GSM177969\n",
      "10-May-2022 09:15:35 DEBUG GEOparse - SAMPLE: GSM177970\n",
      "10-May-2022 09:15:35 DEBUG GEOparse - SAMPLE: GSM177971\n",
      "10-May-2022 09:15:35 DEBUG GEOparse - SAMPLE: GSM177972\n",
      "10-May-2022 09:15:35 DEBUG GEOparse - SAMPLE: GSM177973\n",
      "10-May-2022 09:15:35 DEBUG GEOparse - SAMPLE: GSM177974\n",
      "10-May-2022 09:15:36 DEBUG GEOparse - SAMPLE: GSM177975\n",
      "10-May-2022 09:15:36 DEBUG GEOparse - SAMPLE: GSM177976\n",
      "10-May-2022 09:15:36 DEBUG GEOparse - SAMPLE: GSM177977\n",
      "10-May-2022 09:15:36 DEBUG GEOparse - SAMPLE: GSM177978\n",
      "10-May-2022 09:15:36 DEBUG GEOparse - SAMPLE: GSM177979\n",
      "10-May-2022 09:15:36 DEBUG GEOparse - SAMPLE: GSM177980\n",
      "10-May-2022 09:15:37 DEBUG GEOparse - SAMPLE: GSM177981\n",
      "10-May-2022 09:15:37 DEBUG GEOparse - SAMPLE: GSM177982\n",
      "10-May-2022 09:15:37 DEBUG GEOparse - SAMPLE: GSM177983\n",
      "10-May-2022 09:15:37 DEBUG GEOparse - SAMPLE: GSM177984\n",
      "10-May-2022 09:15:37 DEBUG GEOparse - SAMPLE: GSM177985\n",
      "10-May-2022 09:15:37 DEBUG GEOparse - SAMPLE: GSM177986\n",
      "10-May-2022 09:15:37 DEBUG GEOparse - SAMPLE: GSM177987\n",
      "10-May-2022 09:15:37 DEBUG GEOparse - SAMPLE: GSM177988\n",
      "10-May-2022 09:15:38 DEBUG GEOparse - SAMPLE: GSM177989\n",
      "10-May-2022 09:15:38 DEBUG GEOparse - SAMPLE: GSM177990\n",
      "10-May-2022 09:15:38 DEBUG GEOparse - SAMPLE: GSM177991\n",
      "10-May-2022 09:15:38 DEBUG GEOparse - SAMPLE: GSM177992\n",
      "10-May-2022 09:15:38 DEBUG GEOparse - SAMPLE: GSM177993\n",
      "10-May-2022 09:15:38 DEBUG GEOparse - SAMPLE: GSM177994\n",
      "10-May-2022 09:15:38 DEBUG GEOparse - SAMPLE: GSM177995\n",
      "10-May-2022 09:15:38 DEBUG GEOparse - SAMPLE: GSM177996\n",
      "10-May-2022 09:15:38 DEBUG GEOparse - SAMPLE: GSM177997\n",
      "10-May-2022 09:15:38 DEBUG GEOparse - SAMPLE: GSM177998\n",
      "10-May-2022 09:15:38 DEBUG GEOparse - SAMPLE: GSM177999\n",
      "10-May-2022 09:15:38 DEBUG GEOparse - SAMPLE: GSM178000\n",
      "10-May-2022 09:15:38 DEBUG GEOparse - SAMPLE: GSM178001\n",
      "10-May-2022 09:15:38 DEBUG GEOparse - SAMPLE: GSM178002\n",
      "10-May-2022 09:15:38 DEBUG GEOparse - SAMPLE: GSM178003\n",
      "10-May-2022 09:15:39 DEBUG GEOparse - SAMPLE: GSM178004\n",
      "10-May-2022 09:15:39 DEBUG GEOparse - SAMPLE: GSM178005\n",
      "10-May-2022 09:15:39 DEBUG GEOparse - SAMPLE: GSM178006\n",
      "10-May-2022 09:15:39 DEBUG GEOparse - SAMPLE: GSM178007\n",
      "10-May-2022 09:15:39 DEBUG GEOparse - SAMPLE: GSM178008\n",
      "10-May-2022 09:15:39 DEBUG GEOparse - SAMPLE: GSM178009\n",
      "10-May-2022 09:15:39 DEBUG GEOparse - SAMPLE: GSM178010\n",
      "10-May-2022 09:15:39 DEBUG GEOparse - SAMPLE: GSM178011\n",
      "10-May-2022 09:15:39 DEBUG GEOparse - SAMPLE: GSM178012\n",
      "10-May-2022 09:15:39 DEBUG GEOparse - SAMPLE: GSM178013\n",
      "10-May-2022 09:15:39 DEBUG GEOparse - SAMPLE: GSM178014\n",
      "10-May-2022 09:15:39 DEBUG GEOparse - SAMPLE: GSM178015\n",
      "10-May-2022 09:15:39 DEBUG GEOparse - SAMPLE: GSM178016\n",
      "10-May-2022 09:15:39 DEBUG GEOparse - SAMPLE: GSM178017\n",
      "10-May-2022 09:15:39 DEBUG GEOparse - SAMPLE: GSM178018\n",
      "10-May-2022 09:15:39 DEBUG GEOparse - SAMPLE: GSM178019\n",
      "10-May-2022 09:15:40 DEBUG GEOparse - SAMPLE: GSM178020\n",
      "10-May-2022 09:15:40 DEBUG GEOparse - SAMPLE: GSM178021\n",
      "10-May-2022 09:15:40 DEBUG GEOparse - SAMPLE: GSM178022\n",
      "10-May-2022 09:15:40 DEBUG GEOparse - SAMPLE: GSM178023\n",
      "10-May-2022 09:15:40 DEBUG GEOparse - SAMPLE: GSM178024\n",
      "10-May-2022 09:15:40 DEBUG GEOparse - SAMPLE: GSM178025\n",
      "10-May-2022 09:15:40 DEBUG GEOparse - SAMPLE: GSM178026\n",
      "10-May-2022 09:15:40 DEBUG GEOparse - SAMPLE: GSM178027\n",
      "10-May-2022 09:15:40 DEBUG GEOparse - SAMPLE: GSM178028\n",
      "10-May-2022 09:15:40 DEBUG GEOparse - SAMPLE: GSM178029\n",
      "10-May-2022 09:15:40 DEBUG GEOparse - SAMPLE: GSM178030\n",
      "10-May-2022 09:15:40 DEBUG GEOparse - SAMPLE: GSM178031\n",
      "10-May-2022 09:15:40 DEBUG GEOparse - SAMPLE: GSM178032\n",
      "10-May-2022 09:15:40 DEBUG GEOparse - SAMPLE: GSM178033\n",
      "10-May-2022 09:15:40 DEBUG GEOparse - SAMPLE: GSM178034\n",
      "10-May-2022 09:15:40 DEBUG GEOparse - SAMPLE: GSM178035\n",
      "10-May-2022 09:15:41 DEBUG GEOparse - SAMPLE: GSM178036\n",
      "10-May-2022 09:15:41 DEBUG GEOparse - SAMPLE: GSM178037\n",
      "10-May-2022 09:15:41 DEBUG GEOparse - SAMPLE: GSM178038\n",
      "10-May-2022 09:15:41 DEBUG GEOparse - SAMPLE: GSM178039\n",
      "10-May-2022 09:15:41 DEBUG GEOparse - SAMPLE: GSM178040\n",
      "10-May-2022 09:15:41 DEBUG GEOparse - SAMPLE: GSM178041\n",
      "10-May-2022 09:15:41 DEBUG GEOparse - SAMPLE: GSM178042\n",
      "10-May-2022 09:15:41 DEBUG GEOparse - SAMPLE: GSM178043\n",
      "10-May-2022 09:15:41 DEBUG GEOparse - SAMPLE: GSM178044\n",
      "10-May-2022 09:15:41 DEBUG GEOparse - SAMPLE: GSM178045\n",
      "10-May-2022 09:15:41 DEBUG GEOparse - SAMPLE: GSM178046\n",
      "10-May-2022 09:15:41 DEBUG GEOparse - SAMPLE: GSM178047\n",
      "10-May-2022 09:15:41 DEBUG GEOparse - SAMPLE: GSM178048\n",
      "10-May-2022 09:15:41 DEBUG GEOparse - SAMPLE: GSM178049\n",
      "10-May-2022 09:15:41 DEBUG GEOparse - SAMPLE: GSM178050\n",
      "10-May-2022 09:15:41 DEBUG GEOparse - SAMPLE: GSM178051\n",
      "10-May-2022 09:15:42 DEBUG GEOparse - SAMPLE: GSM178052\n",
      "10-May-2022 09:15:42 DEBUG GEOparse - SAMPLE: GSM178053\n",
      "10-May-2022 09:15:42 DEBUG GEOparse - SAMPLE: GSM178054\n",
      "10-May-2022 09:15:42 DEBUG GEOparse - SAMPLE: GSM178055\n",
      "10-May-2022 09:15:42 DEBUG GEOparse - SAMPLE: GSM178056\n",
      "10-May-2022 09:15:42 DEBUG GEOparse - SAMPLE: GSM178057\n",
      "10-May-2022 09:15:42 DEBUG GEOparse - SAMPLE: GSM178058\n",
      "10-May-2022 09:15:42 DEBUG GEOparse - SAMPLE: GSM178059\n",
      "10-May-2022 09:15:42 DEBUG GEOparse - SAMPLE: GSM178060\n",
      "10-May-2022 09:15:42 DEBUG GEOparse - SAMPLE: GSM178061\n",
      "10-May-2022 09:15:42 DEBUG GEOparse - SAMPLE: GSM178062\n",
      "10-May-2022 09:15:42 DEBUG GEOparse - SAMPLE: GSM178063\n",
      "10-May-2022 09:15:42 DEBUG GEOparse - SAMPLE: GSM178064\n",
      "10-May-2022 09:15:42 DEBUG GEOparse - SAMPLE: GSM178065\n",
      "10-May-2022 09:15:42 DEBUG GEOparse - SAMPLE: GSM178066\n",
      "10-May-2022 09:15:42 DEBUG GEOparse - SAMPLE: GSM178067\n",
      "10-May-2022 09:15:43 DEBUG GEOparse - SAMPLE: GSM178068\n",
      "10-May-2022 09:15:43 DEBUG GEOparse - SAMPLE: GSM178069\n",
      "10-May-2022 09:15:43 DEBUG GEOparse - SAMPLE: GSM178070\n",
      "10-May-2022 09:15:43 DEBUG GEOparse - SAMPLE: GSM178071\n",
      "10-May-2022 09:15:43 DEBUG GEOparse - SAMPLE: GSM178072\n",
      "10-May-2022 09:15:43 DEBUG GEOparse - SAMPLE: GSM178073\n",
      "10-May-2022 09:15:43 DEBUG GEOparse - SAMPLE: GSM178074\n",
      "10-May-2022 09:15:43 DEBUG GEOparse - SAMPLE: GSM178075\n",
      "10-May-2022 09:15:43 DEBUG GEOparse - SAMPLE: GSM178076\n",
      "10-May-2022 09:15:43 DEBUG GEOparse - SAMPLE: GSM178077\n",
      "10-May-2022 09:15:43 DEBUG GEOparse - SAMPLE: GSM178078\n",
      "10-May-2022 09:15:43 DEBUG GEOparse - SAMPLE: GSM178079\n",
      "10-May-2022 09:15:43 DEBUG GEOparse - SAMPLE: GSM178080\n",
      "10-May-2022 09:15:43 DEBUG GEOparse - SAMPLE: GSM178081\n",
      "10-May-2022 09:15:43 DEBUG GEOparse - SAMPLE: GSM178082\n"
     ]
    }
   ],
   "source": [
    "# Download and parse the dataset. You may use bmes_downloadandparsegse_cached('GSE7390') (which downloads the series file and parses it using geoseriesread()). \n",
    "    # You do not need to translate the Probe names to gene IDs; hence, you do not need to download the GPL platform file for this dataset.\n",
    "gse = GEOparse.get_GEO(geo=\"GSE7390\", destdir=\".\")"
   ]
  },
  {
   "cell_type": "markdown",
   "metadata": {
    "id": "GLB6sHK_93RV"
   },
   "source": [
    "Get target and expression values"
   ]
  },
  {
   "cell_type": "code",
   "execution_count": null,
   "metadata": {
    "id": "_nfn1sZfUhPz"
   },
   "outputs": [],
   "source": [
    "# generate pandas dataframes\n",
    "\n",
    "cancerRelapseStatus = gse.phenotype_data[\"characteristics_ch1.14.e.rfs\"]\n",
    "gsedata = pd.concat(map(lambda x: pd.concat([pd.DataFrame(), gse.gsms[x].table.rename(columns={'VALUE':x})],axis=1), gse.gsms.keys()), axis=1)\n",
    "gsedata = gsedata.loc[:,~gsedata.columns.duplicated()]"
   ]
  },
  {
   "cell_type": "code",
   "execution_count": null,
   "metadata": {
    "id": "sRIN9u5vBxtG"
   },
   "outputs": [],
   "source": [
    "# generate numpy arrays\n",
    "\n",
    "dataset_np = gsedata.transpose().to_numpy()[1:]\n",
    "labels_np = cancerRelapseStatus.to_numpy(dtype=np.int32)"
   ]
  },
  {
   "cell_type": "code",
   "execution_count": null,
   "metadata": {
    "id": "35Ck24BIZ3NY"
   },
   "outputs": [],
   "source": [
    "# standardize the features\n",
    "from sklearn.preprocessing import StandardScaler\n",
    "\n",
    "scaler = StandardScaler()\n",
    "scaler.fit(dataset_np)\n",
    "standardized_dataset_np = scaler.transform(dataset_np)"
   ]
  },
  {
   "cell_type": "code",
   "execution_count": null,
   "metadata": {
    "id": "QFhTEHOBaZcL"
   },
   "outputs": [],
   "source": [
    "# train test split\n",
    "from sklearn.model_selection import train_test_split\n",
    "\n",
    "X_train, X_test, Y_train, Y_test = train_test_split(standardized_dataset_np, labels_np, test_size=0.33, random_state=42)"
   ]
  },
  {
   "cell_type": "code",
   "execution_count": null,
   "metadata": {
    "id": "RUVAOmr9bGWI"
   },
   "outputs": [],
   "source": [
    "# defining PyTorch datasets and dataloaders\n",
    "import torch\n",
    "from torch.utils.data import Dataset\n",
    "from torch.utils.data import DataLoader\n",
    "\n",
    "class TrainData(Dataset):\n",
    "  def __init__(self, X_data, y_data):\n",
    "    self.X_data = X_data\n",
    "    self.y_data = y_data\n",
    "\n",
    "  def __getitem__(self, index):\n",
    "      return self.X_data[index], self.y_data[index]\n",
    "        \n",
    "  def __len__ (self):\n",
    "      return len(self.X_data)\n",
    "\n",
    "class TestData(Dataset):  \n",
    "  def __init__(self, X_data):\n",
    "    self.X_data = X_data\n",
    "        \n",
    "  def __getitem__(self, index):\n",
    "    return self.X_data[index]\n",
    "\n",
    "  def __len__ (self):\n",
    "    return len(self.X_data)\n",
    "\n",
    "train_data = TrainData(torch.FloatTensor(X_train), torch.FloatTensor(Y_train))\n",
    "test_data = TestData(torch.FloatTensor(X_test))\n",
    "train_loader = DataLoader(dataset=train_data, batch_size=64, shuffle=True)\n",
    "test_loader = DataLoader(dataset=test_data, batch_size=1)"
   ]
  },
  {
   "cell_type": "markdown",
   "metadata": {
    "id": "hN6EJaL293Rc"
   },
   "source": [
    "\n",
    "Filter 76 significant genes"
   ]
  },
  {
   "cell_type": "code",
   "execution_count": null,
   "metadata": {
    "id": "0_yU_qewQgvW"
   },
   "outputs": [],
   "source": [
    "formimport torch.nn as nn\n",
    "from typing import Any\n",
    "\n",
    "class MLP(nn.Module):\n",
    "    def __init__(self):\n",
    "        super(MLP, self).__init__()\n",
    "        self.layer_1 = nn.Linear(22283, 8192) \n",
    "        self.layer_2 = nn.Linear(8192, 4096)\n",
    "        self.layer_3 = nn.Linear(4096, 2048)\n",
    "        self.layer_4 = nn.Linear(2048, 1024)\n",
    "        self.layer_5 = nn.Linear(1024, 512) \n",
    "        self.layer_6 = nn.Linear(512, 256)\n",
    "        self.layer_out = nn.Linear(256, 1)\n",
    "        \n",
    "        self.relu = nn.ReLU()\n",
    "        self.dropout = nn.Dropout(p=0.1)\n",
    "        self.batchnorm1 = nn.BatchNorm1d(2048)\n",
    "        self.batchnorm2 = nn.BatchNorm1d(512)\n",
    "        self.batchnorm3 = nn.BatchNorm1d(256)\n",
    "        \n",
    "    def forward(self, inputs):\n",
    "        x = self.relu(self.layer_1(inputs))\n",
    "        x = self.relu(self.layer_2(x))\n",
    "        x = self.relu(self.layer_3(x))\n",
    "        x = self.batchnorm1(x)\n",
    "        x = self.relu(self.layer_4(x))\n",
    "        x = self.relu(self.layer_5(x))\n",
    "        x = self.batchnorm2(x)\n",
    "        x = self.relu(self.layer_6(x))\n",
    "        x = self.batchnorm3(x)\n",
    "        x = self.dropout(x)\n",
    "        x = self.layer_out(x)\n",
    "        return x"
   ]
  },
  {
   "cell_type": "code",
   "execution_count": null,
   "metadata": {
    "id": "XWh8CG5Kcg2N"
   },
   "outputs": [],
   "source": [
    "# training setup\n",
    "from torch import optim\n",
    "\n",
    "device = torch.device(\"cuda:0\" if torch.cuda.is_available() else \"cpu\")\n",
    "model = MLP()\n",
    "model.to(device)\n",
    "\n",
    "criterion = nn.BCEWithLogitsLoss()\n",
    "optimizer = optim.Adam(model.parameters(), lr=0.001)"
   ]
  },
  {
   "cell_type": "code",
   "execution_count": null,
   "metadata": {
    "id": "AWn3o-5RhZOY"
   },
   "outputs": [],
   "source": [
    "# accuracy calculation\n",
    "def binary_acc(y_pred, y_test):\n",
    "  y_pred_tag = torch.round(torch.sigmoid(y_pred))\n",
    "  \n",
    "  correct_results_sum = (y_pred_tag == y_test).sum().float()\n",
    "  acc = correct_results_sum/y_test.shape[0]\n",
    "  acc = torch.round(acc * 100)\n",
    "    \n",
    "  return acc"
   ]
  },
  {
   "cell_type": "code",
   "execution_count": null,
   "metadata": {
    "colab": {
     "base_uri": "https://localhost:8080/"
    },
    "id": "iQNX1-AFhfI1",
    "outputId": "71986c2f-f06c-4d60-93d4-9ecc5c934880"
   },
   "outputs": [
    {
     "name": "stdout",
     "output_type": "stream",
     "text": [
      "Epoch 001: | Loss: 0.79250 | Acc: 48.333\n",
      "Epoch 002: | Loss: 0.80951 | Acc: 53.333\n",
      "Epoch 003: | Loss: 0.67062 | Acc: 57.000\n",
      "Epoch 004: | Loss: 0.73465 | Acc: 52.333\n",
      "Epoch 005: | Loss: 0.65287 | Acc: 68.667\n",
      "Epoch 006: | Loss: 0.58932 | Acc: 77.000\n",
      "Epoch 007: | Loss: 0.63102 | Acc: 61.000\n",
      "Epoch 008: | Loss: 0.60974 | Acc: 70.333\n",
      "Epoch 009: | Loss: 0.64668 | Acc: 62.000\n",
      "Epoch 010: | Loss: 0.65211 | Acc: 64.000\n",
      "Epoch 011: | Loss: 0.58882 | Acc: 74.667\n",
      "Epoch 012: | Loss: 0.64138 | Acc: 64.333\n",
      "Epoch 013: | Loss: 0.52440 | Acc: 64.000\n",
      "Epoch 014: | Loss: 0.64536 | Acc: 67.000\n",
      "Epoch 015: | Loss: 0.54837 | Acc: 73.000\n",
      "Epoch 016: | Loss: 0.62669 | Acc: 58.333\n",
      "Epoch 017: | Loss: 0.64484 | Acc: 60.000\n",
      "Epoch 018: | Loss: 0.78008 | Acc: 59.333\n",
      "Epoch 019: | Loss: 0.63384 | Acc: 68.333\n",
      "Epoch 020: | Loss: 0.54211 | Acc: 73.333\n",
      "Epoch 021: | Loss: 0.52320 | Acc: 77.667\n",
      "Epoch 022: | Loss: 0.54029 | Acc: 75.333\n",
      "Epoch 023: | Loss: 0.66288 | Acc: 59.000\n",
      "Epoch 024: | Loss: 0.51200 | Acc: 79.000\n",
      "Epoch 025: | Loss: 0.43524 | Acc: 78.667\n",
      "Epoch 026: | Loss: 0.43134 | Acc: 80.667\n",
      "Epoch 027: | Loss: 0.54463 | Acc: 73.000\n",
      "Epoch 028: | Loss: 0.55963 | Acc: 81.667\n",
      "Epoch 029: | Loss: 0.46370 | Acc: 78.333\n",
      "Epoch 030: | Loss: 0.56313 | Acc: 65.333\n",
      "Epoch 031: | Loss: 0.66695 | Acc: 56.333\n",
      "Epoch 032: | Loss: 0.55340 | Acc: 81.000\n",
      "Epoch 033: | Loss: 0.60227 | Acc: 64.667\n",
      "Epoch 034: | Loss: 0.45818 | Acc: 79.333\n",
      "Epoch 035: | Loss: 0.77377 | Acc: 55.667\n",
      "Epoch 036: | Loss: 0.76059 | Acc: 48.000\n",
      "Epoch 037: | Loss: 0.66793 | Acc: 56.333\n",
      "Epoch 038: | Loss: 0.56493 | Acc: 76.667\n",
      "Epoch 039: | Loss: 0.65506 | Acc: 60.333\n",
      "Epoch 040: | Loss: 0.55658 | Acc: 68.667\n",
      "Epoch 041: | Loss: 0.44710 | Acc: 80.000\n",
      "Epoch 042: | Loss: 0.46232 | Acc: 83.333\n",
      "Epoch 043: | Loss: 0.45867 | Acc: 77.333\n",
      "Epoch 044: | Loss: 0.45859 | Acc: 80.333\n",
      "Epoch 045: | Loss: 0.52296 | Acc: 71.333\n",
      "Epoch 046: | Loss: 0.42780 | Acc: 78.333\n",
      "Epoch 047: | Loss: 0.49742 | Acc: 74.000\n",
      "Epoch 048: | Loss: 0.30113 | Acc: 89.000\n",
      "Epoch 049: | Loss: 0.36235 | Acc: 93.667\n",
      "Epoch 050: | Loss: 0.35692 | Acc: 92.333\n",
      "Epoch 051: | Loss: 0.42674 | Acc: 83.000\n",
      "Epoch 052: | Loss: 0.40436 | Acc: 83.000\n",
      "Epoch 053: | Loss: 0.41576 | Acc: 80.000\n",
      "Epoch 054: | Loss: 0.26325 | Acc: 88.667\n",
      "Epoch 055: | Loss: 0.51975 | Acc: 84.000\n",
      "Epoch 056: | Loss: 0.28944 | Acc: 93.667\n",
      "Epoch 057: | Loss: 0.46418 | Acc: 67.333\n",
      "Epoch 058: | Loss: 0.30277 | Acc: 86.000\n",
      "Epoch 059: | Loss: 0.38720 | Acc: 86.333\n",
      "Epoch 060: | Loss: 0.30608 | Acc: 86.000\n",
      "Epoch 061: | Loss: 0.33562 | Acc: 86.667\n",
      "Epoch 062: | Loss: 0.47655 | Acc: 77.000\n",
      "Epoch 063: | Loss: 0.52539 | Acc: 76.333\n",
      "Epoch 064: | Loss: 0.54942 | Acc: 68.667\n",
      "Epoch 065: | Loss: 0.26635 | Acc: 94.000\n",
      "Epoch 066: | Loss: 0.39483 | Acc: 76.667\n",
      "Epoch 067: | Loss: 0.57278 | Acc: 55.000\n",
      "Epoch 068: | Loss: 0.36747 | Acc: 83.000\n",
      "Epoch 069: | Loss: 0.44713 | Acc: 77.667\n",
      "Epoch 070: | Loss: 0.36128 | Acc: 87.333\n",
      "Epoch 071: | Loss: 0.42433 | Acc: 78.000\n",
      "Epoch 072: | Loss: 0.31922 | Acc: 79.000\n",
      "Epoch 073: | Loss: 0.24679 | Acc: 93.667\n",
      "Epoch 074: | Loss: 0.51834 | Acc: 70.333\n",
      "Epoch 075: | Loss: 0.43504 | Acc: 70.667\n",
      "Epoch 076: | Loss: 0.30345 | Acc: 85.000\n",
      "Epoch 077: | Loss: 0.30794 | Acc: 82.333\n",
      "Epoch 078: | Loss: 0.40053 | Acc: 75.667\n",
      "Epoch 079: | Loss: 0.32384 | Acc: 85.333\n",
      "Epoch 080: | Loss: 0.31684 | Acc: 85.000\n",
      "Epoch 081: | Loss: 0.46080 | Acc: 86.000\n",
      "Epoch 082: | Loss: 0.38739 | Acc: 83.333\n",
      "Epoch 083: | Loss: 0.38807 | Acc: 71.333\n",
      "Epoch 084: | Loss: 0.28858 | Acc: 88.333\n",
      "Epoch 085: | Loss: 0.28109 | Acc: 89.000\n",
      "Epoch 086: | Loss: 0.30813 | Acc: 79.000\n",
      "Epoch 087: | Loss: 0.30581 | Acc: 84.333\n",
      "Epoch 088: | Loss: 0.19331 | Acc: 95.667\n",
      "Epoch 089: | Loss: 0.16538 | Acc: 95.333\n",
      "Epoch 090: | Loss: 0.34958 | Acc: 87.333\n",
      "Epoch 091: | Loss: 0.35539 | Acc: 87.000\n",
      "Epoch 092: | Loss: 0.19186 | Acc: 98.667\n",
      "Epoch 093: | Loss: 0.23912 | Acc: 90.000\n",
      "Epoch 094: | Loss: 0.21765 | Acc: 88.667\n",
      "Epoch 095: | Loss: 0.16268 | Acc: 96.333\n",
      "Epoch 096: | Loss: 0.44356 | Acc: 79.667\n",
      "Epoch 097: | Loss: 0.10976 | Acc: 97.333\n",
      "Epoch 098: | Loss: 0.21804 | Acc: 88.333\n",
      "Epoch 099: | Loss: 0.38039 | Acc: 89.667\n",
      "Epoch 100: | Loss: 0.13706 | Acc: 97.667\n"
     ]
    }
   ],
   "source": [
    "# training\n",
    "model.train()\n",
    "for e in range(1, 101):    # 100 epochs\n",
    "  epoch_loss = 0\n",
    "  epoch_acc = 0\n",
    "  for X_batch, y_batch in train_loader:\n",
    "    X_batch, y_batch = X_batch.to(device), y_batch.to(device)\n",
    "    optimizer.zero_grad()\n",
    "        \n",
    "    y_pred = model(X_batch)\n",
    "        \n",
    "    loss = criterion(y_pred, y_batch.unsqueeze(1))\n",
    "    acc = binary_acc(y_pred, y_batch.unsqueeze(1))\n",
    "        \n",
    "    loss.backward()\n",
    "    optimizer.step()\n",
    "        \n",
    "    epoch_loss += loss.item()\n",
    "    epoch_acc += acc.item()\n",
    "        \n",
    "\n",
    "  print(f'Epoch {e+0:03}: | Loss: {epoch_loss/len(train_loader):.5f} | Acc: {epoch_acc/len(train_loader):.3f}')"
   ]
  },
  {
   "cell_type": "code",
   "execution_count": null,
   "metadata": {
    "id": "xzMWDCnFiSkt"
   },
   "outputs": [],
   "source": [
    "# testing/validation setup\n",
    "\n",
    "y_pred_list = []\n",
    "model.eval()\n",
    "with torch.no_grad():\n",
    "  for X_batch in test_loader:\n",
    "    X_batch = X_batch.to(device)\n",
    "    y_test_pred = model(X_batch)\n",
    "    y_test_pred = torch.sigmoid(y_test_pred)\n",
    "    y_pred_tag = torch.round(y_test_pred)\n",
    "    y_pred_list.append(y_pred_tag.cpu().numpy())\n",
    "\n",
    "y_pred_list = [a.squeeze().tolist() for a in y_pred_list]"
   ]
  },
  {
   "cell_type": "code",
   "execution_count": null,
   "metadata": {
    "colab": {
     "base_uri": "https://localhost:8080/"
    },
    "id": "eSE0xwODiih7",
    "outputId": "f099e997-1050-43aa-99f2-2dc611ec3489"
   },
   "outputs": [
    {
     "name": "stdout",
     "output_type": "stream",
     "text": [
      "True Negatives: 22\n",
      "False Positives: 11\n",
      "False Negatives: 19\n",
      "True Positives: 14\n"
     ]
    }
   ],
   "source": [
    "# confusion matrix\n",
    "from sklearn.metrics import confusion_matrix\n",
    "\n",
    "tn, fp, fn, tp = confusion_matrix(Y_test, y_pred_list).ravel()\n",
    "\n",
    "print(\"True Negatives:\", tn)\n",
    "print(\"False Positives:\", fp)\n",
    "print(\"False Negatives:\", fn)\n",
    "print(\"True Positives:\", tp)"
   ]
  },
  {
   "cell_type": "code",
   "execution_count": null,
   "metadata": {
    "colab": {
     "base_uri": "https://localhost:8080/"
    },
    "id": "-lnALO_GkDUG",
    "outputId": "00d510a5-b0bb-49ae-ae35-b24ad031f8af"
   },
   "outputs": [
    {
     "name": "stdout",
     "output_type": "stream",
     "text": [
      "              precision    recall  f1-score   support\n",
      "\n",
      "           0       0.54      0.67      0.59        33\n",
      "           1       0.56      0.42      0.48        33\n",
      "\n",
      "    accuracy                           0.55        66\n",
      "   macro avg       0.55      0.55      0.54        66\n",
      "weighted avg       0.55      0.55      0.54        66\n",
      "\n"
     ]
    }
   ],
   "source": [
    "# classification report\n",
    "from sklearn.metrics import classification_report\n",
    "\n",
    "print(classification_report(Y_test, y_pred_list))"
   ]
  }
 ],
 "metadata": {
  "language_info": {
   "name": "python"
  },
  "orig_nbformat": 4
 },
 "nbformat": 4,
 "nbformat_minor": 2
}
