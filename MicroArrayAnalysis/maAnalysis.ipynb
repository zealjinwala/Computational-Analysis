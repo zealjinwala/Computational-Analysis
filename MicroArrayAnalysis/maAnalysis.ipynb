{
 "cells": [
  {
   "cell_type": "markdown",
   "metadata": {},
   "source": [
    "## Microarray Analysis- Machine Learning Analysis\n",
    "* Date: April 27, 2022 \n",
    "* Author: Zeal Jinwala (zsj24)\n",
    "* Description: In this study, you will analyze a Breast Cancer dataset, GSE7390, and identify a gene signature for prediction of Breast Cancer relapse. Use SVM to predict relapse. Use a forward-selection strategy and 10-fold crossvalidation to determine the best gene signature."
   ]
  },
  {
   "cell_type": "markdown",
   "metadata": {},
   "source": [
    "Import packages"
   ]
  },
  {
   "cell_type": "code",
   "execution_count": 1,
   "metadata": {},
   "outputs": [],
   "source": [
    "import GEOparse\n",
    "import re\n",
    "import pandas as pd\n",
    "import numpy as np\n",
    "from tqdm import tqdm"
   ]
  },
  {
   "cell_type": "code",
   "execution_count": 2,
   "metadata": {},
   "outputs": [],
   "source": [
    "class DownloadProgressBar(tqdm):\n",
    "    def update_to(self, b=1, bsize=1, tsize=None):\n",
    "        if tsize is not None:\n",
    "            self.total = tsize\n",
    "        self.update(b * bsize - self.n)"
   ]
  },
  {
   "cell_type": "markdown",
   "metadata": {},
   "source": [
    "Download and parse data"
   ]
  },
  {
   "cell_type": "code",
   "execution_count": 3,
   "metadata": {},
   "outputs": [
    {
     "name": "stderr",
     "output_type": "stream",
     "text": [
      "28-Jun-2022 18:58:42 DEBUG utils - Directory . already exists. Skipping.\n",
      "28-Jun-2022 18:58:42 INFO GEOparse - Downloading ftp://ftp.ncbi.nlm.nih.gov/geo/series/GSE7nnn/GSE7390/soft/GSE7390_family.soft.gz to ./GSE7390_family.soft.gz\n",
      "100%|██████████| 42.7M/42.7M [00:01<00:00, 31.0MB/s]  \n",
      "28-Jun-2022 18:58:44 DEBUG downloader - Size validation passed\n",
      "28-Jun-2022 18:58:44 DEBUG downloader - Moving /var/folders/g8/824tqwk50c17j0sh1y69p4z5x108l_/T/tmplhyf9ffu to /Users/zsj24/GitHub/Computational-Analysis/MicroArrayAnalysis/GSE7390_family.soft.gz\n",
      "28-Jun-2022 18:58:44 DEBUG downloader - Successfully downloaded ftp://ftp.ncbi.nlm.nih.gov/geo/series/GSE7nnn/GSE7390/soft/GSE7390_family.soft.gz\n",
      "28-Jun-2022 18:58:44 INFO GEOparse - Parsing ./GSE7390_family.soft.gz: \n",
      "28-Jun-2022 18:58:44 DEBUG GEOparse - DATABASE: GeoMiame\n",
      "28-Jun-2022 18:58:44 DEBUG GEOparse - SERIES: GSE7390\n",
      "28-Jun-2022 18:58:44 DEBUG GEOparse - PLATFORM: GPL96\n",
      "28-Jun-2022 18:58:46 DEBUG GEOparse - SAMPLE: GSM177885\n",
      "28-Jun-2022 18:58:46 DEBUG GEOparse - SAMPLE: GSM177886\n",
      "28-Jun-2022 18:58:47 DEBUG GEOparse - SAMPLE: GSM177887\n",
      "28-Jun-2022 18:58:47 DEBUG GEOparse - SAMPLE: GSM177888\n",
      "28-Jun-2022 18:58:47 DEBUG GEOparse - SAMPLE: GSM177889\n",
      "28-Jun-2022 18:58:47 DEBUG GEOparse - SAMPLE: GSM177890\n",
      "28-Jun-2022 18:58:48 DEBUG GEOparse - SAMPLE: GSM177891\n",
      "28-Jun-2022 18:58:48 DEBUG GEOparse - SAMPLE: GSM177892\n",
      "28-Jun-2022 18:58:48 DEBUG GEOparse - SAMPLE: GSM177893\n",
      "28-Jun-2022 18:58:48 DEBUG GEOparse - SAMPLE: GSM177894\n",
      "28-Jun-2022 18:58:48 DEBUG GEOparse - SAMPLE: GSM177895\n",
      "28-Jun-2022 18:58:48 DEBUG GEOparse - SAMPLE: GSM177896\n",
      "28-Jun-2022 18:58:48 DEBUG GEOparse - SAMPLE: GSM177897\n",
      "28-Jun-2022 18:58:48 DEBUG GEOparse - SAMPLE: GSM177898\n",
      "28-Jun-2022 18:58:48 DEBUG GEOparse - SAMPLE: GSM177899\n",
      "28-Jun-2022 18:58:48 DEBUG GEOparse - SAMPLE: GSM177900\n",
      "28-Jun-2022 18:58:49 DEBUG GEOparse - SAMPLE: GSM177901\n",
      "28-Jun-2022 18:58:49 DEBUG GEOparse - SAMPLE: GSM177902\n",
      "28-Jun-2022 18:58:49 DEBUG GEOparse - SAMPLE: GSM177903\n",
      "28-Jun-2022 18:58:49 DEBUG GEOparse - SAMPLE: GSM177904\n",
      "28-Jun-2022 18:58:49 DEBUG GEOparse - SAMPLE: GSM177905\n",
      "28-Jun-2022 18:58:49 DEBUG GEOparse - SAMPLE: GSM177906\n",
      "28-Jun-2022 18:58:49 DEBUG GEOparse - SAMPLE: GSM177907\n",
      "28-Jun-2022 18:58:49 DEBUG GEOparse - SAMPLE: GSM177908\n",
      "28-Jun-2022 18:58:49 DEBUG GEOparse - SAMPLE: GSM177909\n",
      "28-Jun-2022 18:58:49 DEBUG GEOparse - SAMPLE: GSM177910\n",
      "28-Jun-2022 18:58:49 DEBUG GEOparse - SAMPLE: GSM177911\n",
      "28-Jun-2022 18:58:50 DEBUG GEOparse - SAMPLE: GSM177912\n",
      "28-Jun-2022 18:58:50 DEBUG GEOparse - SAMPLE: GSM177913\n",
      "28-Jun-2022 18:58:50 DEBUG GEOparse - SAMPLE: GSM177914\n",
      "28-Jun-2022 18:58:50 DEBUG GEOparse - SAMPLE: GSM177915\n",
      "28-Jun-2022 18:58:50 DEBUG GEOparse - SAMPLE: GSM177916\n",
      "28-Jun-2022 18:58:50 DEBUG GEOparse - SAMPLE: GSM177917\n",
      "28-Jun-2022 18:58:50 DEBUG GEOparse - SAMPLE: GSM177918\n",
      "28-Jun-2022 18:58:50 DEBUG GEOparse - SAMPLE: GSM177919\n",
      "28-Jun-2022 18:58:50 DEBUG GEOparse - SAMPLE: GSM177920\n",
      "28-Jun-2022 18:58:50 DEBUG GEOparse - SAMPLE: GSM177921\n",
      "28-Jun-2022 18:58:50 DEBUG GEOparse - SAMPLE: GSM177922\n",
      "28-Jun-2022 18:58:51 DEBUG GEOparse - SAMPLE: GSM177923\n",
      "28-Jun-2022 18:58:51 DEBUG GEOparse - SAMPLE: GSM177924\n",
      "28-Jun-2022 18:58:51 DEBUG GEOparse - SAMPLE: GSM177925\n",
      "28-Jun-2022 18:58:51 DEBUG GEOparse - SAMPLE: GSM177926\n",
      "28-Jun-2022 18:58:51 DEBUG GEOparse - SAMPLE: GSM177927\n",
      "28-Jun-2022 18:58:51 DEBUG GEOparse - SAMPLE: GSM177928\n",
      "28-Jun-2022 18:58:51 DEBUG GEOparse - SAMPLE: GSM177929\n",
      "28-Jun-2022 18:58:51 DEBUG GEOparse - SAMPLE: GSM177930\n",
      "28-Jun-2022 18:58:51 DEBUG GEOparse - SAMPLE: GSM177931\n",
      "28-Jun-2022 18:58:51 DEBUG GEOparse - SAMPLE: GSM177932\n",
      "28-Jun-2022 18:58:51 DEBUG GEOparse - SAMPLE: GSM177933\n",
      "28-Jun-2022 18:58:52 DEBUG GEOparse - SAMPLE: GSM177934\n",
      "28-Jun-2022 18:58:52 DEBUG GEOparse - SAMPLE: GSM177935\n",
      "28-Jun-2022 18:58:52 DEBUG GEOparse - SAMPLE: GSM177936\n",
      "28-Jun-2022 18:58:52 DEBUG GEOparse - SAMPLE: GSM177937\n",
      "28-Jun-2022 18:58:52 DEBUG GEOparse - SAMPLE: GSM177938\n",
      "28-Jun-2022 18:58:52 DEBUG GEOparse - SAMPLE: GSM177939\n",
      "28-Jun-2022 18:58:52 DEBUG GEOparse - SAMPLE: GSM177940\n",
      "28-Jun-2022 18:58:52 DEBUG GEOparse - SAMPLE: GSM177941\n",
      "28-Jun-2022 18:58:52 DEBUG GEOparse - SAMPLE: GSM177942\n",
      "28-Jun-2022 18:58:52 DEBUG GEOparse - SAMPLE: GSM177943\n",
      "28-Jun-2022 18:58:52 DEBUG GEOparse - SAMPLE: GSM177944\n",
      "28-Jun-2022 18:58:53 DEBUG GEOparse - SAMPLE: GSM177945\n",
      "28-Jun-2022 18:58:53 DEBUG GEOparse - SAMPLE: GSM177946\n",
      "28-Jun-2022 18:58:53 DEBUG GEOparse - SAMPLE: GSM177947\n",
      "28-Jun-2022 18:58:53 DEBUG GEOparse - SAMPLE: GSM177948\n",
      "28-Jun-2022 18:58:53 DEBUG GEOparse - SAMPLE: GSM177949\n",
      "28-Jun-2022 18:58:53 DEBUG GEOparse - SAMPLE: GSM177950\n",
      "28-Jun-2022 18:58:53 DEBUG GEOparse - SAMPLE: GSM177951\n",
      "28-Jun-2022 18:58:53 DEBUG GEOparse - SAMPLE: GSM177952\n",
      "28-Jun-2022 18:58:53 DEBUG GEOparse - SAMPLE: GSM177953\n",
      "28-Jun-2022 18:58:53 DEBUG GEOparse - SAMPLE: GSM177954\n",
      "28-Jun-2022 18:58:54 DEBUG GEOparse - SAMPLE: GSM177955\n",
      "28-Jun-2022 18:58:54 DEBUG GEOparse - SAMPLE: GSM177956\n",
      "28-Jun-2022 18:58:54 DEBUG GEOparse - SAMPLE: GSM177957\n",
      "28-Jun-2022 18:58:54 DEBUG GEOparse - SAMPLE: GSM177958\n",
      "28-Jun-2022 18:58:54 DEBUG GEOparse - SAMPLE: GSM177959\n",
      "28-Jun-2022 18:58:54 DEBUG GEOparse - SAMPLE: GSM177960\n",
      "28-Jun-2022 18:58:54 DEBUG GEOparse - SAMPLE: GSM177961\n",
      "28-Jun-2022 18:58:55 DEBUG GEOparse - SAMPLE: GSM177962\n",
      "28-Jun-2022 18:58:55 DEBUG GEOparse - SAMPLE: GSM177963\n",
      "28-Jun-2022 18:58:55 DEBUG GEOparse - SAMPLE: GSM177964\n",
      "28-Jun-2022 18:58:55 DEBUG GEOparse - SAMPLE: GSM177965\n",
      "28-Jun-2022 18:58:55 DEBUG GEOparse - SAMPLE: GSM177966\n",
      "28-Jun-2022 18:58:56 DEBUG GEOparse - SAMPLE: GSM177967\n",
      "28-Jun-2022 18:58:56 DEBUG GEOparse - SAMPLE: GSM177968\n",
      "28-Jun-2022 18:58:56 DEBUG GEOparse - SAMPLE: GSM177969\n",
      "28-Jun-2022 18:58:56 DEBUG GEOparse - SAMPLE: GSM177970\n",
      "28-Jun-2022 18:58:56 DEBUG GEOparse - SAMPLE: GSM177971\n",
      "28-Jun-2022 18:58:57 DEBUG GEOparse - SAMPLE: GSM177972\n",
      "28-Jun-2022 18:58:57 DEBUG GEOparse - SAMPLE: GSM177973\n",
      "28-Jun-2022 18:58:57 DEBUG GEOparse - SAMPLE: GSM177974\n",
      "28-Jun-2022 18:58:57 DEBUG GEOparse - SAMPLE: GSM177975\n",
      "28-Jun-2022 18:58:57 DEBUG GEOparse - SAMPLE: GSM177976\n",
      "28-Jun-2022 18:58:58 DEBUG GEOparse - SAMPLE: GSM177977\n",
      "28-Jun-2022 18:58:58 DEBUG GEOparse - SAMPLE: GSM177978\n",
      "28-Jun-2022 18:58:58 DEBUG GEOparse - SAMPLE: GSM177979\n",
      "28-Jun-2022 18:58:58 DEBUG GEOparse - SAMPLE: GSM177980\n",
      "28-Jun-2022 18:58:58 DEBUG GEOparse - SAMPLE: GSM177981\n",
      "28-Jun-2022 18:58:58 DEBUG GEOparse - SAMPLE: GSM177982\n",
      "28-Jun-2022 18:58:58 DEBUG GEOparse - SAMPLE: GSM177983\n",
      "28-Jun-2022 18:58:58 DEBUG GEOparse - SAMPLE: GSM177984\n",
      "28-Jun-2022 18:58:58 DEBUG GEOparse - SAMPLE: GSM177985\n",
      "28-Jun-2022 18:58:59 DEBUG GEOparse - SAMPLE: GSM177986\n",
      "28-Jun-2022 18:58:59 DEBUG GEOparse - SAMPLE: GSM177987\n",
      "28-Jun-2022 18:58:59 DEBUG GEOparse - SAMPLE: GSM177988\n",
      "28-Jun-2022 18:58:59 DEBUG GEOparse - SAMPLE: GSM177989\n",
      "28-Jun-2022 18:58:59 DEBUG GEOparse - SAMPLE: GSM177990\n",
      "28-Jun-2022 18:58:59 DEBUG GEOparse - SAMPLE: GSM177991\n",
      "28-Jun-2022 18:58:59 DEBUG GEOparse - SAMPLE: GSM177992\n",
      "28-Jun-2022 18:58:59 DEBUG GEOparse - SAMPLE: GSM177993\n",
      "28-Jun-2022 18:59:00 DEBUG GEOparse - SAMPLE: GSM177994\n",
      "28-Jun-2022 18:59:00 DEBUG GEOparse - SAMPLE: GSM177995\n",
      "28-Jun-2022 18:59:00 DEBUG GEOparse - SAMPLE: GSM177996\n",
      "28-Jun-2022 18:59:00 DEBUG GEOparse - SAMPLE: GSM177997\n",
      "28-Jun-2022 18:59:00 DEBUG GEOparse - SAMPLE: GSM177998\n",
      "28-Jun-2022 18:59:00 DEBUG GEOparse - SAMPLE: GSM177999\n",
      "28-Jun-2022 18:59:00 DEBUG GEOparse - SAMPLE: GSM178000\n",
      "28-Jun-2022 18:59:00 DEBUG GEOparse - SAMPLE: GSM178001\n",
      "28-Jun-2022 18:59:01 DEBUG GEOparse - SAMPLE: GSM178002\n",
      "28-Jun-2022 18:59:01 DEBUG GEOparse - SAMPLE: GSM178003\n",
      "28-Jun-2022 18:59:01 DEBUG GEOparse - SAMPLE: GSM178004\n",
      "28-Jun-2022 18:59:01 DEBUG GEOparse - SAMPLE: GSM178005\n",
      "28-Jun-2022 18:59:01 DEBUG GEOparse - SAMPLE: GSM178006\n",
      "28-Jun-2022 18:59:01 DEBUG GEOparse - SAMPLE: GSM178007\n",
      "28-Jun-2022 18:59:01 DEBUG GEOparse - SAMPLE: GSM178008\n",
      "28-Jun-2022 18:59:02 DEBUG GEOparse - SAMPLE: GSM178009\n",
      "28-Jun-2022 18:59:02 DEBUG GEOparse - SAMPLE: GSM178010\n",
      "28-Jun-2022 18:59:02 DEBUG GEOparse - SAMPLE: GSM178011\n",
      "28-Jun-2022 18:59:02 DEBUG GEOparse - SAMPLE: GSM178012\n",
      "28-Jun-2022 18:59:02 DEBUG GEOparse - SAMPLE: GSM178013\n",
      "28-Jun-2022 18:59:02 DEBUG GEOparse - SAMPLE: GSM178014\n",
      "28-Jun-2022 18:59:02 DEBUG GEOparse - SAMPLE: GSM178015\n",
      "28-Jun-2022 18:59:02 DEBUG GEOparse - SAMPLE: GSM178016\n",
      "28-Jun-2022 18:59:03 DEBUG GEOparse - SAMPLE: GSM178017\n",
      "28-Jun-2022 18:59:03 DEBUG GEOparse - SAMPLE: GSM178018\n",
      "28-Jun-2022 18:59:03 DEBUG GEOparse - SAMPLE: GSM178019\n",
      "28-Jun-2022 18:59:03 DEBUG GEOparse - SAMPLE: GSM178020\n",
      "28-Jun-2022 18:59:03 DEBUG GEOparse - SAMPLE: GSM178021\n",
      "28-Jun-2022 18:59:03 DEBUG GEOparse - SAMPLE: GSM178022\n",
      "28-Jun-2022 18:59:03 DEBUG GEOparse - SAMPLE: GSM178023\n",
      "28-Jun-2022 18:59:03 DEBUG GEOparse - SAMPLE: GSM178024\n",
      "28-Jun-2022 18:59:03 DEBUG GEOparse - SAMPLE: GSM178025\n",
      "28-Jun-2022 18:59:04 DEBUG GEOparse - SAMPLE: GSM178026\n",
      "28-Jun-2022 18:59:04 DEBUG GEOparse - SAMPLE: GSM178027\n",
      "28-Jun-2022 18:59:04 DEBUG GEOparse - SAMPLE: GSM178028\n",
      "28-Jun-2022 18:59:04 DEBUG GEOparse - SAMPLE: GSM178029\n",
      "28-Jun-2022 18:59:04 DEBUG GEOparse - SAMPLE: GSM178030\n",
      "28-Jun-2022 18:59:04 DEBUG GEOparse - SAMPLE: GSM178031\n",
      "28-Jun-2022 18:59:04 DEBUG GEOparse - SAMPLE: GSM178032\n",
      "28-Jun-2022 18:59:04 DEBUG GEOparse - SAMPLE: GSM178033\n",
      "28-Jun-2022 18:59:04 DEBUG GEOparse - SAMPLE: GSM178034\n",
      "28-Jun-2022 18:59:05 DEBUG GEOparse - SAMPLE: GSM178035\n",
      "28-Jun-2022 18:59:05 DEBUG GEOparse - SAMPLE: GSM178036\n",
      "28-Jun-2022 18:59:05 DEBUG GEOparse - SAMPLE: GSM178037\n",
      "28-Jun-2022 18:59:05 DEBUG GEOparse - SAMPLE: GSM178038\n",
      "28-Jun-2022 18:59:05 DEBUG GEOparse - SAMPLE: GSM178039\n",
      "28-Jun-2022 18:59:05 DEBUG GEOparse - SAMPLE: GSM178040\n",
      "28-Jun-2022 18:59:05 DEBUG GEOparse - SAMPLE: GSM178041\n",
      "28-Jun-2022 18:59:05 DEBUG GEOparse - SAMPLE: GSM178042\n",
      "28-Jun-2022 18:59:05 DEBUG GEOparse - SAMPLE: GSM178043\n",
      "28-Jun-2022 18:59:06 DEBUG GEOparse - SAMPLE: GSM178044\n",
      "28-Jun-2022 18:59:06 DEBUG GEOparse - SAMPLE: GSM178045\n",
      "28-Jun-2022 18:59:06 DEBUG GEOparse - SAMPLE: GSM178046\n",
      "28-Jun-2022 18:59:06 DEBUG GEOparse - SAMPLE: GSM178047\n",
      "28-Jun-2022 18:59:06 DEBUG GEOparse - SAMPLE: GSM178048\n",
      "28-Jun-2022 18:59:06 DEBUG GEOparse - SAMPLE: GSM178049\n",
      "28-Jun-2022 18:59:06 DEBUG GEOparse - SAMPLE: GSM178050\n",
      "28-Jun-2022 18:59:06 DEBUG GEOparse - SAMPLE: GSM178051\n",
      "28-Jun-2022 18:59:07 DEBUG GEOparse - SAMPLE: GSM178052\n",
      "28-Jun-2022 18:59:07 DEBUG GEOparse - SAMPLE: GSM178053\n",
      "28-Jun-2022 18:59:07 DEBUG GEOparse - SAMPLE: GSM178054\n",
      "28-Jun-2022 18:59:07 DEBUG GEOparse - SAMPLE: GSM178055\n",
      "28-Jun-2022 18:59:07 DEBUG GEOparse - SAMPLE: GSM178056\n",
      "28-Jun-2022 18:59:07 DEBUG GEOparse - SAMPLE: GSM178057\n",
      "28-Jun-2022 18:59:07 DEBUG GEOparse - SAMPLE: GSM178058\n",
      "28-Jun-2022 18:59:08 DEBUG GEOparse - SAMPLE: GSM178059\n",
      "28-Jun-2022 18:59:08 DEBUG GEOparse - SAMPLE: GSM178060\n",
      "28-Jun-2022 18:59:08 DEBUG GEOparse - SAMPLE: GSM178061\n",
      "28-Jun-2022 18:59:09 DEBUG GEOparse - SAMPLE: GSM178062\n",
      "28-Jun-2022 18:59:09 DEBUG GEOparse - SAMPLE: GSM178063\n",
      "28-Jun-2022 18:59:09 DEBUG GEOparse - SAMPLE: GSM178064\n",
      "28-Jun-2022 18:59:09 DEBUG GEOparse - SAMPLE: GSM178065\n",
      "28-Jun-2022 18:59:09 DEBUG GEOparse - SAMPLE: GSM178066\n",
      "28-Jun-2022 18:59:09 DEBUG GEOparse - SAMPLE: GSM178067\n",
      "28-Jun-2022 18:59:10 DEBUG GEOparse - SAMPLE: GSM178068\n",
      "28-Jun-2022 18:59:10 DEBUG GEOparse - SAMPLE: GSM178069\n",
      "28-Jun-2022 18:59:10 DEBUG GEOparse - SAMPLE: GSM178070\n",
      "28-Jun-2022 18:59:10 DEBUG GEOparse - SAMPLE: GSM178071\n",
      "28-Jun-2022 18:59:10 DEBUG GEOparse - SAMPLE: GSM178072\n",
      "28-Jun-2022 18:59:10 DEBUG GEOparse - SAMPLE: GSM178073\n",
      "28-Jun-2022 18:59:10 DEBUG GEOparse - SAMPLE: GSM178074\n",
      "28-Jun-2022 18:59:11 DEBUG GEOparse - SAMPLE: GSM178075\n",
      "28-Jun-2022 18:59:11 DEBUG GEOparse - SAMPLE: GSM178076\n",
      "28-Jun-2022 18:59:11 DEBUG GEOparse - SAMPLE: GSM178077\n",
      "28-Jun-2022 18:59:11 DEBUG GEOparse - SAMPLE: GSM178078\n",
      "28-Jun-2022 18:59:11 DEBUG GEOparse - SAMPLE: GSM178079\n",
      "28-Jun-2022 18:59:11 DEBUG GEOparse - SAMPLE: GSM178080\n",
      "28-Jun-2022 18:59:11 DEBUG GEOparse - SAMPLE: GSM178081\n",
      "28-Jun-2022 18:59:11 DEBUG GEOparse - SAMPLE: GSM178082\n"
     ]
    }
   ],
   "source": [
    "# Download and parse the dataset. You may use bmes_downloadandparsegse_cached('GSE7390') (which downloads the series file and parses it using geoseriesread()). \n",
    "    # You do not need to translate the Probe names to gene IDs; hence, you do not need to download the GPL platform file for this dataset.\n",
    "gse = GEOparse.get_GEO(geo=\"GSE7390\", destdir=\".\")"
   ]
  },
  {
   "cell_type": "markdown",
   "metadata": {},
   "source": [
    "Get target and expression values"
   ]
  },
  {
   "cell_type": "code",
   "execution_count": 4,
   "metadata": {},
   "outputs": [],
   "source": [
    "# find the patient characteristics, which will be the target in our case\n",
    "# Cancer relapse status is given as “e.rfs”, with 1 indicating relapse, and 0 indicating no relapse.\n",
    "cancerRelapseStatus = gse.phenotype_data[\"characteristics_ch1.14.e.rfs\"]\n",
    "\n",
    "# Expression data\n",
    "gsedata = None\n",
    "for gsmid in gse.gsms.keys():\n",
    "    gsmdata = gse.gsms[gsmid].table.rename(columns={'VALUE':gsmid})\n",
    "    if gsedata is None: gsedata=gsmdata\n",
    "    else:\n",
    "        assert(gsedata['ID_REF'].equals(gsmdata['ID_REF']))\n",
    "        gsedata = pd.concat([gsedata,gsmdata[gsmid]],axis=1)\n"
   ]
  },
  {
   "cell_type": "markdown",
   "metadata": {},
   "source": [
    "\n",
    "Filter 76 significant genes"
   ]
  },
  {
   "cell_type": "code",
   "execution_count": 5,
   "metadata": {},
   "outputs": [
    {
     "ename": "FileNotFoundError",
     "evalue": "[Errno 2] No such file or directory: 'sigGenes.txt'",
     "output_type": "error",
     "traceback": [
      "\u001b[0;31m---------------------------------------------------------------------------\u001b[0m",
      "\u001b[0;31mFileNotFoundError\u001b[0m                         Traceback (most recent call last)",
      "\u001b[0;32m/var/folders/g8/824tqwk50c17j0sh1y69p4z5x108l_/T/ipykernel_93828/1841198608.py\u001b[0m in \u001b[0;36m<module>\u001b[0;34m\u001b[0m\n\u001b[1;32m      7\u001b[0m \u001b[0;31m# reading each line from the text file\u001b[0m\u001b[0;34m\u001b[0m\u001b[0;34m\u001b[0m\u001b[0;34m\u001b[0m\u001b[0m\n\u001b[1;32m      8\u001b[0m \u001b[0msigGenes\u001b[0m \u001b[0;34m=\u001b[0m \u001b[0;34m[\u001b[0m\u001b[0;34m]\u001b[0m\u001b[0;34m\u001b[0m\u001b[0;34m\u001b[0m\u001b[0m\n\u001b[0;32m----> 9\u001b[0;31m \u001b[0;32mwith\u001b[0m \u001b[0mopen\u001b[0m\u001b[0;34m(\u001b[0m\u001b[0;34m'sigGenes.txt'\u001b[0m\u001b[0;34m)\u001b[0m \u001b[0;32mas\u001b[0m \u001b[0mf\u001b[0m\u001b[0;34m:\u001b[0m\u001b[0;34m\u001b[0m\u001b[0;34m\u001b[0m\u001b[0m\n\u001b[0m\u001b[1;32m     10\u001b[0m     \u001b[0mlines\u001b[0m \u001b[0;34m=\u001b[0m \u001b[0mf\u001b[0m\u001b[0;34m.\u001b[0m\u001b[0mreadlines\u001b[0m\u001b[0;34m(\u001b[0m\u001b[0;34m)\u001b[0m\u001b[0;34m\u001b[0m\u001b[0;34m\u001b[0m\u001b[0m\n\u001b[1;32m     11\u001b[0m \u001b[0;34m\u001b[0m\u001b[0m\n",
      "\u001b[0;31mFileNotFoundError\u001b[0m: [Errno 2] No such file or directory: 'sigGenes.txt'"
     ]
    }
   ],
   "source": [
    "# Instead of using all of the genes, use only the 76-genes listed in Table 3 of [Gene-expression profiles to predict \n",
    "# distant metastasis of lymph-node-negative primary breast cancer.] \n",
    "    # Filter out the genes that are not part of the 76-genes, you won't need them for the rest of this assignment.\n",
    "\n",
    "# sigGenes.txt contains the table from the paper for this study\n",
    "\n",
    "# reading each line from the text file\n",
    "sigGenes = []\n",
    "with open('sigGenes.txt') as f:\n",
    "    lines = f.readlines()\n",
    "\n",
    "# Regexp pattern to extract geneIds\n",
    "pattern = re.compile('\\d+_[^\\s]*')\n",
    "\n",
    "# Extracting genes line-by-line\n",
    "for line in lines:\n",
    "    gene = re.findall(pattern,str(line))\n",
    "    if gene:\n",
    "        sigGenes.append(gene)\n",
    "\n",
    "# Created a set of extracted genes (76 genes)\n",
    "sigGenesSet = set([i[0] for i in sigGenes])\n",
    "\n",
    "# Filter out the genes that are not part of the 76-genes\n",
    "filteredData = gsedata[gsedata['ID_REF'].isin(sigGenesSet)]\n"
   ]
  },
  {
   "cell_type": "markdown",
   "metadata": {},
   "source": [
    "Normalize data"
   ]
  },
  {
   "cell_type": "code",
   "execution_count": null,
   "metadata": {},
   "outputs": [],
   "source": [
    "# Normalize data- Standard normalization\n",
    "step1 = filteredData-filteredData.mean(axis=0)\n",
    "normalized = step1 /filteredData.std(axis=0)\n",
    "normalized.drop('ID_REF', inplace=True, axis=1)\n"
   ]
  },
  {
   "cell_type": "markdown",
   "metadata": {},
   "source": [
    "Split train and test data"
   ]
  },
  {
   "cell_type": "code",
   "execution_count": null,
   "metadata": {},
   "outputs": [],
   "source": [
    "# Randomly pick out 90% of the samples to serve as training data, and the remaining 10% to serve as test data.\n",
    "from sklearn.model_selection import train_test_split\n",
    "x = normalized.values\n",
    "y = cancerRelapseStatus.values\n",
    "x_train, x_test, y_train, y_test = train_test_split(np.transpose(x),y,test_size = 0.10)"
   ]
  },
  {
   "cell_type": "markdown",
   "metadata": {},
   "source": [
    "\n",
    "Generating model\n"
   ]
  },
  {
   "cell_type": "code",
   "execution_count": null,
   "metadata": {},
   "outputs": [
    {
     "data": {
      "text/plain": [
       "SVC()"
      ]
     },
     "metadata": {},
     "output_type": "display_data"
    }
   ],
   "source": [
    "# Train a SVM model using fitcsvm() on the training data. Note that SVM considers each row as a sample to be predicted and considers each column as features (genes).\n",
    "from sklearn import svm\n",
    "clf = svm.SVC(kernel='rbf') # radial base function \n",
    "clf.fit(x_train, y_train) "
   ]
  },
  {
   "cell_type": "markdown",
   "metadata": {},
   "source": [
    "\n",
    "Get model predictions"
   ]
  },
  {
   "cell_type": "code",
   "execution_count": null,
   "metadata": {},
   "outputs": [
    {
     "name": "stdout",
     "output_type": "stream",
     "text": [
      "Accuracy for a single partition fold: \n",
      " 75.0\n"
     ]
    }
   ],
   "source": [
    "# Get SVM predictions using predict() on the test data. Calculate and report the accuracy rate (for a single partition/fold).\n",
    "y_pred = clf.predict(x_test)\n",
    "\n",
    "# compTable = np.concatenate([y_pred, y_test, comp])\n",
    "# Performance for 1-fold\n",
    "numcorrect = sum(y_pred == y_test)\n",
    "# numerrors = sum(y_pred != y_test)\n",
    "accuracy = numcorrect / len(y_test)\n",
    "# errorrate = numerrors / len(y_test)\n",
    "print(\"Accuracy for a single partition fold: \\n\", accuracy*100)"
   ]
  },
  {
   "cell_type": "markdown",
   "metadata": {},
   "source": [
    "\n",
    "Model evaluation"
   ]
  },
  {
   "cell_type": "code",
   "execution_count": null,
   "metadata": {},
   "outputs": [
    {
     "name": "stdout",
     "output_type": "stream",
     "text": [
      "Accuracy for a single partition/fold using hwmaml_breastcancer_trainandtest(): \n",
      " 75.0\n"
     ]
    }
   ],
   "source": [
    "# Calculate and report the accuracy (for a single partition/fold), this time by calling the hwmaml_breastcancer_trainandtest() function you wrote.\n",
    "from breastcancer_trainandtest import *\n",
    "numerrors = breastcancer_trainandtest(x_train, y_train,x_test,y_test)\n",
    "print(\"Accuracy for a single partition/fold using hwmaml_breastcancer_trainandtest(): \\n\", (1 - numerrors / len(y_test))*100)\n"
   ]
  },
  {
   "cell_type": "markdown",
   "metadata": {},
   "source": [
    "Feature selection"
   ]
  },
  {
   "cell_type": "code",
   "execution_count": null,
   "metadata": {},
   "outputs": [
    {
     "name": "stdout",
     "output_type": "stream",
     "text": [
      "Features selected by forward sequential selection: \n",
      "[['219340_s_at']\n",
      " ['217771_at']\n",
      " ['202418_at']\n",
      " ['206295_at']\n",
      " ['200726_at']\n",
      " ['200965_s_at']\n",
      " ['210314_x_at']\n",
      " ['217767_at']\n",
      " ['219588_s_at']\n",
      " ['204073_s_at']\n",
      " ['212567_s_at']\n",
      " ['211382_s_at']\n",
      " ['201663_s_at']\n",
      " ['210028_s_at']\n",
      " ['218782_s_at']\n",
      " ['219724_s_at']\n",
      " ['204014_at']\n",
      " ['212014_x_at']\n",
      " ['218883_s_at']\n",
      " ['204888_s_at']\n",
      " ['217815_at']\n",
      " ['201288_at']\n",
      " ['201068_s_at']\n",
      " ['214919_s_at']\n",
      " ['217471_at']\n",
      " ['221816_s_at']\n",
      " ['217102_at']\n",
      " ['215633_x_at']\n",
      " ['204540_at']\n",
      " ['209500_x_at']\n",
      " ['207118_s_at']\n",
      " ['205848_at']\n",
      " ['204631_at']\n",
      " ['202687_s_at']\n",
      " ['220886_at']\n",
      " ['221241_s_at']\n",
      " ['209862_s_at']\n",
      " ['217019_at']]\n",
      "Number of features selected: \n",
      " 38\n"
     ]
    }
   ],
   "source": [
    "# Perform forward selection of features (genes) that give the best prediction results (as measured by accuracy). \n",
    "# sequentialfs() will do the heavy lifting for you.\n",
    "# * Create a 10-fold cross-validation of all data samples using cvpartition(). You will pass this on to sequentialfs().\n",
    "# * Report the names of the genes that were selected by sequentialfs to have the best accuracy.\n",
    "\n",
    "# Using python's Sequential feature selection for feature selection \n",
    "from sklearn.model_selection import cross_val_score\n",
    "from sklearn.feature_selection import SequentialFeatureSelector as SFS\n",
    "\n",
    "clf = svm.SVC(kernel='rbf')\n",
    "# passing \n",
    "sfs = SFS(clf, n_jobs=-1,direction = 'forward',scoring='accuracy',cv = 10)\n",
    "sfs.fit(np.transpose(x), y)\n",
    "\n",
    "selectedArray = sfs.get_support()\n",
    "sigGenesList = np.array(sigGenes)\n",
    "selectedGenes = sigGenesList[selectedArray]\n",
    "print(\n",
    "    \"Features selected by forward sequential selection: \\n\"\n",
    "    f\"{selectedGenes}\"\n",
    ")\n",
    "\n",
    "print(\"Number of features selected: \\n\", len(selectedGenes))"
   ]
  },
  {
   "cell_type": "code",
   "execution_count": null,
   "metadata": {},
   "outputs": [
    {
     "name": "stdout",
     "output_type": "stream",
     "text": [
      "The 10-fold cross-validation accuracies of the SVM model: \n",
      " [0.55       0.7        0.55       0.55       0.6        0.6\n",
      " 0.55       0.45       0.63157895 0.63157895]\n",
      "The average 10-fold cross-validation accuracy of the SVM model: \n",
      " 58.13157894736843\n"
     ]
    }
   ],
   "source": [
    "# Using the list of genes selected, report the 10-fold cross-validation accuracy of the SVM model.\n",
    "filterSelected = gsedata[gsedata['ID_REF'].isin(list(selectedGenes))]\n",
    "xdata = filterSelected.iloc[:,1:]\n",
    "scores = cross_val_score(clf, np.transpose(xdata) , y, cv=10)\n",
    "print(\"The 10-fold cross-validation accuracies of the SVM model: \\n\", scores)\n",
    "print(\"The average 10-fold cross-validation accuracy of the SVM model: \\n\", np.mean(scores)*100)"
   ]
  }
 ],
 "metadata": {
  "interpreter": {
   "hash": "31f2aee4e71d21fbe5cf8b01ff0e069b9275f58929596ceb00d14d90e3e16cd6"
  },
  "kernelspec": {
   "display_name": "Python 3.8.2 64-bit",
   "language": "python",
   "name": "python3"
  },
  "language_info": {
   "codemirror_mode": {
    "name": "ipython",
    "version": 3
   },
   "file_extension": ".py",
   "mimetype": "text/x-python",
   "name": "python",
   "nbconvert_exporter": "python",
   "pygments_lexer": "ipython3",
   "version": "3.8.2"
  },
  "orig_nbformat": 4
 },
 "nbformat": 4,
 "nbformat_minor": 2
}
